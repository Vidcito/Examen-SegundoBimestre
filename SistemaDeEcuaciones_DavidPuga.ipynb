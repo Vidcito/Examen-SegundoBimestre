{
  "nbformat": 4,
  "nbformat_minor": 0,
  "metadata": {
    "colab": {
      "provenance": [],
      "authorship_tag": "ABX9TyNWwvssXjOdPGWZRV7cCqVj",
      "include_colab_link": true
    },
    "kernelspec": {
      "name": "python3",
      "display_name": "Python 3"
    },
    "language_info": {
      "name": "python"
    }
  },
  "cells": [
    {
      "cell_type": "markdown",
      "metadata": {
        "id": "view-in-github",
        "colab_type": "text"
      },
      "source": [
        "<a href=\"https://colab.research.google.com/github/Vidcito/Examen-SegundoBimestre/blob/main/SistemaDeEcuaciones_DavidPuga.ipynb\" target=\"_parent\"><img src=\"https://colab.research.google.com/assets/colab-badge.svg\" alt=\"Open In Colab\"/></a>"
      ]
    },
    {
      "cell_type": "code",
      "execution_count": 40,
      "metadata": {
        "colab": {
          "base_uri": "https://localhost:8080/"
        },
        "id": "QPR0xFWOX2r5",
        "outputId": "0abbce3f-507a-4010-c8e0-2c87b3e52061"
      },
      "outputs": [
        {
          "output_type": "stream",
          "name": "stdout",
          "text": [
            "The autoreload extension is already loaded. To reload it, use:\n",
            "  %reload_ext autoreload\n"
          ]
        }
      ],
      "source": [
        "%load_ext autoreload"
      ]
    },
    {
      "cell_type": "code",
      "source": [
        "import logging\n",
        "from sys import stdout\n",
        "from datetime import datetime\n",
        "import numpy as np\n",
        "import os\n",
        "\n",
        "logging.basicConfig(\n",
        "    level=logging.INFO,\n",
        "    format=\"[%(asctime)s][%(levelname)s] %(message)s\",\n",
        "    stream=stdout,\n",
        "    datefmt=\"%m-%d %H:%M:%S\",\n",
        ")\n",
        "\n",
        "logging.info(f\"{datetime.now()}\")"
      ],
      "metadata": {
        "id": "_c0QvjvzeEHN"
      },
      "execution_count": 41,
      "outputs": []
    },
    {
      "cell_type": "code",
      "source": [
        "# ####################################################################\n",
        "def gauss_jordan(Ab: np.ndarray) -> np.ndarray:\n",
        "    \"\"\"Resuelve un sistema de ecuaciones lineales mediante el método de Gauss-Jordan.\n",
        "\n",
        "    ## Parameters\n",
        "\n",
        "    ``Ab``: matriz aumentada del sistema de ecuaciones lineales. Debe ser de tamaño n-by-(n+1), donde n es el número de incógnitas.\n",
        "\n",
        "    ## Return\n",
        "\n",
        "    ``solucion``: vector con la solución del sistema de ecuaciones lineales.\n",
        "\n",
        "    \"\"\"\n",
        "    if not isinstance(Ab, np.ndarray):\n",
        "        logging.debug(\"Convirtiendo A a numpy array.\")\n",
        "        Ab = np.array(Ab, dtype=float)\n",
        "    assert Ab.shape[0] == Ab.shape[1] - 1, \"La matriz A debe ser de tamaño n-by-(n+1).\"\n",
        "    n = Ab.shape[0]\n",
        "\n",
        "    for i in range(0, n):  # loop por columna\n",
        "\n",
        "        # --- encontrar pivote\n",
        "        p = None  # default, first element\n",
        "        for pi in range(i, n):\n",
        "            if Ab[pi, i] == 0:\n",
        "                # must be nonzero\n",
        "                continue\n",
        "\n",
        "            if p is None:\n",
        "                # first nonzero element\n",
        "                p = pi\n",
        "                continue\n",
        "\n",
        "            if abs(Ab[pi, i]) < abs(Ab[p, i]):\n",
        "                p = pi\n",
        "\n",
        "        if p is None:\n",
        "            # no pivot found.\n",
        "            raise ValueError(\"No existe solución única.\")\n",
        "\n",
        "        if p != i:\n",
        "            # swap rows\n",
        "            logging.debug(f\"Intercambiando filas {i} y {p}\")\n",
        "            _aux = Ab[i, :].copy()\n",
        "            Ab[i, :] = Ab[p, :].copy()\n",
        "            Ab[p, :] = _aux\n",
        "\n",
        "        # --- Eliminación: loop por fila\n",
        "        for j in range(n):\n",
        "            if i == j:\n",
        "                continue\n",
        "            m = Ab[j, i] / Ab[i, i]\n",
        "            Ab[j, i:] = Ab[j, i:] - m * Ab[i, i:]\n",
        "\n",
        "        logging.info(f\"\\n{Ab}\")\n",
        "\n",
        "    if Ab[n - 1, n - 1] == 0:\n",
        "        raise ValueError(\"No existe solución única.\")\n",
        "\n",
        "    # --- Sustitución hacia atrás\n",
        "    solucion = np.zeros(n)\n",
        "\n",
        "    for i in range(n - 1, -1, -1):\n",
        "        solucion[i] = Ab[i, -1] / Ab[i, i]\n",
        "\n",
        "    return solucion"
      ],
      "metadata": {
        "id": "cM1ehhOwiJUb"
      },
      "execution_count": 50,
      "outputs": []
    },
    {
      "cell_type": "code",
      "source": [
        "%autoreload 2\n",
        "from src import matriz_aumentada\n",
        "\n",
        "A = [\n",
        "    [1, 2, 3, 4],\n",
        "    [2, 5, 6, 7],\n",
        "    [3, 6, 8, 9],\n",
        "    [4, 7, 9, 10],\n",
        "]\n",
        "b = [1, -2, 3, 4]\n",
        "\n",
        "Ab = matriz_aumentada(A, b)\n",
        "gauss_jordan(Ab)"
      ],
      "metadata": {
        "colab": {
          "base_uri": "https://localhost:8080/"
        },
        "id": "ygk0mlXZYAGw",
        "outputId": "b3c01028-16a2-4dc1-8dcb-78f547f20f83"
      },
      "execution_count": 57,
      "outputs": [
        {
          "output_type": "execute_result",
          "data": {
            "text/plain": [
              "array([ 3., -6.,  6., -2.])"
            ]
          },
          "metadata": {},
          "execution_count": 57
        }
      ]
    },
    {
      "cell_type": "code",
      "source": [
        "# prompt: # prompt: def inv_matrix(A: np.ndarray) -> np.ndarray:\n",
        "# #     \"\"\"Inversión de una matriz cuadrada mediante método de Gauss-Jordan.\n",
        "# #     ## Parameters\n",
        "# #     ``A``: matriz cuadrada de tamaño n x n.\n",
        "# #     ## Return\n",
        "# #     ``A_inv``: matriz inversa de A.\n",
        "# #     \"\"\"\n",
        "# #     # COMPLETAR\n",
        "# #     # Debe basarse en la función gauss_jordan\n",
        "\n",
        "def inv_matrix(A: np.ndarray) -> np.ndarray:\n",
        "    \"\"\"Inversión de una matriz cuadrada mediante método de Gauss-Jordan.\n",
        "    ## Parameters\n",
        "    ``A``: matriz cuadrada de tamaño n x n.\n",
        "    ## Return\n",
        "    ``A_inv``: matriz inversa de A.\n",
        "    \"\"\"\n",
        "    if not isinstance(A, np.ndarray):\n",
        "        logging.debug(\"Convirtiendo A a numpy array.\")\n",
        "        A = np.array(A, dtype=float)\n",
        "    assert A.shape[0] == A.shape[1], \"La matriz A debe ser cuadrada.\"\n",
        "    n = A.shape[0]\n",
        "    A_inv = np.eye(n)\n",
        "    Ab = np.concatenate((A, A_inv), axis=1)\n",
        "    for i in range(0, n):\n",
        "        p = None\n",
        "        for pi in range(i, n):\n",
        "            if Ab[pi, i] == 0:\n",
        "                continue\n",
        "            if p is None:\n",
        "                p = pi\n",
        "                continue\n",
        "            if abs(Ab[pi, i]) < abs(Ab[p, i]):\n",
        "                p = pi\n",
        "        if p is None:\n",
        "          raise ValueError(\"No existe solución única.\")\n",
        "\n",
        "        if p != i:\n",
        "            _aux = Ab[i, :].copy()\n",
        "            Ab[i, :] = Ab[p, :].copy()\n",
        "            Ab[p, :] = _aux\n",
        "        for j in range(n):\n",
        "          if i == j:\n",
        "            continue\n",
        "          m = Ab[j,i]/Ab[i,i]\n",
        "          Ab[j,:] = Ab[j,:] - m*Ab[i,:]\n",
        "        Ab[i,:] = Ab[i,:] / Ab[i,i]\n",
        "\n",
        "    return Ab[:, n:]\n"
      ],
      "metadata": {
        "id": "vJAPYnosjXey"
      },
      "execution_count": 71,
      "outputs": []
    },
    {
      "cell_type": "code",
      "source": [
        "A = [[2, -3], [-1, 1]]\n",
        "inv_matrix(A)"
      ],
      "metadata": {
        "colab": {
          "base_uri": "https://localhost:8080/"
        },
        "id": "k4d3-YxVfEqD",
        "outputId": "e61c7127-99c5-4fe9-8660-1f3a213030e6"
      },
      "execution_count": 72,
      "outputs": [
        {
          "output_type": "execute_result",
          "data": {
            "text/plain": [
              "array([[-1., -3.],\n",
              "       [-1., -2.]])"
            ]
          },
          "metadata": {},
          "execution_count": 72
        }
      ]
    },
    {
      "cell_type": "code",
      "source": [
        "A = [\n",
        "    [4, 0, 0, 5],\n",
        "    [1, 0, 4, 0],\n",
        "    [3, 4, 1, 3],\n",
        "    [1, 3, 3, 0],\n",
        "]\n",
        "inv_matrix(A)"
      ],
      "metadata": {
        "colab": {
          "base_uri": "https://localhost:8080/"
        },
        "id": "Ge7YyK4FfdXh",
        "outputId": "1ae86f0d-b3db-4f88-d112-89358c0afd99"
      },
      "execution_count": 69,
      "outputs": [
        {
          "output_type": "execute_result",
          "data": {
            "text/plain": [
              "array([[-36.,  45.,  60., -80.],\n",
              "       [  3.,  -4.,  -5.,   7.],\n",
              "       [  9., -11., -15.,  20.],\n",
              "       [ 29., -36., -48.,  64.]])"
            ]
          },
          "metadata": {},
          "execution_count": 69
        }
      ]
    },
    {
      "cell_type": "code",
      "source": [
        "A = [\n",
        "    [0, 0, 0, 0, 0, 0, 1, -1],\n",
        "    [0, 1, -1, 1, 0, -1, 0, 1],\n",
        "    [-1, -1, 0, 0, 2, 1, 0, 0],\n",
        "    [-1, -1, -1, 1, 2, 0, 0, 1],\n",
        "    [-1, 1, 1, 0, -1, -1, 0, 2],\n",
        "    [0, 1, 0, 0, -1, -1, 0, 0],\n",
        "    [1, -1, -1, 1, 2, 1, 0, 2],\n",
        "    [2, 0, 0, 0, 0, 1, 2, 0],\n",
        "]\n",
        "inv_matrix(A)"
      ],
      "metadata": {
        "colab": {
          "base_uri": "https://localhost:8080/"
        },
        "id": "57tryfz4fiHJ",
        "outputId": "24ebf920-6f81-44d2-adf3-d7a605065a78"
      },
      "execution_count": 67,
      "outputs": [
        {
          "output_type": "execute_result",
          "data": {
            "text/plain": [
              "array([[ 2., -1.,  0., -1.,  0.,  2.,  2., -1.],\n",
              "       [ 0.,  1.,  1., -1.,  0.,  0.,  0.,  0.],\n",
              "       [ 6., -1.,  0., -3.,  1.,  1.,  4., -3.],\n",
              "       [ 6.,  1., -1., -3.,  1., -3.,  3., -3.],\n",
              "       [ 2., -1.,  1., -1.,  0.,  3.,  2., -1.],\n",
              "       [-2.,  2.,  0.,  0.,  0., -4., -2.,  1.],\n",
              "       [-1.,  0.,  0.,  1.,  0.,  0., -1.,  1.],\n",
              "       [-2.,  0.,  0.,  1.,  0.,  0., -1.,  1.]])"
            ]
          },
          "metadata": {},
          "execution_count": 67
        }
      ]
    },
    {
      "cell_type": "code",
      "source": [
        "A = [\n",
        "    [1, 0, 0, 0, -1, 0, 0, -1, 1, -1],\n",
        "    [1, 1, 0, -1, -1, 1, 0, 0, 1, -1],\n",
        "    [-1, 0, -1, 0, 0, 0, -1, 1, 0, 0],\n",
        "    [0, 0, -1, 0, -1, -1, 1, 0, 1, 0],\n",
        "    [-1, 0, 0, -1, 1, 1, 1, 1, 0, -1],\n",
        "    [1, 0, 0, 1, -1, -1, -1, 1, -1, 0],\n",
        "    [1, 1, 1, 0, 1, 0, -1, -1, -1, 1],\n",
        "    [1, 1, 1, 1, 0, 0, 1, 1, 0, 0],\n",
        "    [1, 1, 1, 1, 1, 0, -1, -1, 0, 0],\n",
        "    [0, 0, -1, -1, -1, 0, 1, 1, 1, -1],\n",
        "]\n",
        "inv_matrix(A)"
      ],
      "metadata": {
        "colab": {
          "base_uri": "https://localhost:8080/"
        },
        "id": "rX86Rwx9fl0x",
        "outputId": "dea652d0-e752-4fb0-c911-d425a5cccceb"
      },
      "execution_count": 68,
      "outputs": [
        {
          "output_type": "execute_result",
          "data": {
            "text/plain": [
              "array([[ 14.,  -8.,   9.,  -4.,   0.,  -4.,   9.,   7.,  -8.,   3.],\n",
              "       [ -2.,   2.,  -1.,   2.,   1.,   1.,  -1.,  -1.,   1.,  -2.],\n",
              "       [-27.,  14., -18.,   5.,  -2.,   7., -17., -13.,  16.,  -2.],\n",
              "       [ 12.,  -6.,   8.,  -2.,   1.,  -3.,   7.,   6.,  -7.,   0.],\n",
              "       [  6.,  -4.,   4.,  -2.,   0.,  -2.,   4.,   3.,  -3.,   2.],\n",
              "       [ 18.,  -9.,  12.,  -4.,   1.,  -5.,  11.,   9., -11.,   1.],\n",
              "       [  8.,  -4.,   5.,  -1.,   1.,  -2.,   5.,   4.,  -5.,   0.],\n",
              "       [ -5.,   2.,  -3.,   0.,  -1.,   1.,  -3.,  -2.,   3.,   1.],\n",
              "       [-11.,   5.,  -7.,   1.,  -2.,   2.,  -7.,  -5.,   7.,   1.],\n",
              "       [  1.,  -1.,   1.,  -1.,  -1.,  -1.,   1.,   1.,  -1.,   1.]])"
            ]
          },
          "metadata": {},
          "execution_count": 68
        }
      ]
    }
  ]
}